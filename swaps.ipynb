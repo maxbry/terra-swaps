{
  "metadata": {
    "language_info": {
      "codemirror_mode": {
        "name": "python",
        "version": 3
      },
      "file_extension": ".py",
      "mimetype": "text/x-python",
      "name": "python",
      "nbconvert_exporter": "python",
      "pygments_lexer": "ipython3",
      "version": "3.8"
    },
    "kernelspec": {
      "name": "python",
      "display_name": "Python (Pyodide)",
      "language": "python"
    }
  },
  "nbformat_minor": 4,
  "nbformat": 4,
  "cells": [
    {
      "cell_type": "markdown",
      "source": "# Spread fee\n\nCritical to the calculation of the spread fee are the so-called virtual pools:\n- There is a base pool size which is changable using parameters.\n- The Terra pool determines the amount of existing Terra stablecoins denominated in SDR. The size of the Terra pool is not stored. Instead, the difference between the base pool and the Terra pool is stored in a variable called terra pool delta.\n- The Luna pool is calculated using the constant product:\n```\nconstant_product = base_pool * base_pool\nterra_pool = base_pool + terra_pool_delta\nluna_pool = constant_product / terra_pool\n```",
      "metadata": {}
    },
    {
      "cell_type": "code",
      "source": "# we start with a base pool size of 50 million sdr and equal pool sized\n\nbase_pool = 50_000_000\nterra_pool_delta = 0",
      "metadata": {
        "trusted": true
      },
      "execution_count": 1,
      "outputs": []
    },
    {
      "cell_type": "markdown",
      "source": "If someone is to swap TerraSDR to Luna, the amount of Luna to receive is caclulated using the oracle. The spread fee however is calculated by using the constant product:",
      "metadata": {
        "tags": []
      }
    },
    {
      "cell_type": "code",
      "source": "def calc_luna_pool():\n    constant_product = base_pool * base_pool\n    terra_pool = base_pool + terra_pool_delta\n    return constant_product / terra_pool\n\ndef swap_to_luna(amount_terra):\n    constant_product = base_pool * base_pool\n    terra_pool = base_pool + terra_pool_delta\n    luna_pool = constant_product / terra_pool\n    \n    return luna_pool - constant_product / (terra_pool + amount_terra)\n\ndef swap_to_terra(amount_luna):\n    constant_product = base_pool * base_pool\n    terra_pool = base_pool + terra_pool_delta\n    luna_pool = constant_product / terra_pool\n    \n    return terra_pool - constant_product / (luna_pool + amount_luna)",
      "metadata": {
        "trusted": true
      },
      "execution_count": 2,
      "outputs": []
    },
    {
      "cell_type": "markdown",
      "source": "Given a base pool of 50 million SDR and swapping 1000 TerraSDR gives around 1000 SDR worth of Luna:",
      "metadata": {}
    },
    {
      "cell_type": "code",
      "source": "swap_to_luna(1000)",
      "metadata": {
        "trusted": true
      },
      "execution_count": 3,
      "outputs": [
        {
          "execution_count": 3,
          "output_type": "execute_result",
          "data": {
            "text/plain": "999.9800003990531"
          },
          "metadata": {}
        }
      ]
    },
    {
      "cell_type": "markdown",
      "source": "The difference of around $0.02 has to do with the fact that after swapping, more Luna exists than before while the total amount of Luna has the same value (ie inflation). This effect can be seen more clearly when swapping 10 million TerraSDR:",
      "metadata": {}
    },
    {
      "cell_type": "code",
      "source": "swap_to_luna(10_000_000)",
      "metadata": {
        "trusted": true
      },
      "execution_count": 4,
      "outputs": [
        {
          "execution_count": 4,
          "output_type": "execute_result",
          "data": {
            "text/plain": "8333333.333333336"
          },
          "metadata": {}
        }
      ]
    },
    {
      "cell_type": "markdown",
      "source": "The amount of existing Luna has increased by 20% while the value behind all Luna coins was the same. Thus, 10 million Luna now are worth less than before.",
      "metadata": {}
    },
    {
      "cell_type": "code",
      "source": "def calc_spread_fee_to_luna(amount_terra):\n    amount_luna = swap_to_luna(amount_terra)\n    return (amount_terra - amount_luna) / amount_terra\n\ndef calc_spread_fee_to_terra(amount_luna):\n    amount_terra = swap_to_terra(amount_luna)\n    return (amount_luna - amount_terra) / amount_luna\n\ndef format(fee):\n    fee *= 10000\n    fee = int(fee)\n    fee /= 100\n    return '%.2f%%' % fee",
      "metadata": {
        "trusted": true
      },
      "execution_count": 5,
      "outputs": []
    },
    {
      "cell_type": "markdown",
      "source": "The spread fee for swapping 10 million Terra is around 16%:",
      "metadata": {}
    },
    {
      "cell_type": "code",
      "source": "format(calc_spread_fee_to_luna(10_000_000))",
      "metadata": {
        "trusted": true
      },
      "execution_count": 6,
      "outputs": [
        {
          "execution_count": 6,
          "output_type": "execute_result",
          "data": {
            "text/plain": "'16.66%'"
          },
          "metadata": {}
        }
      ]
    },
    {
      "cell_type": "markdown",
      "source": "In case of swapping Terra to Luna, the terra pool delta is being increased (see [here](https://github.com/terra-rebels/classic-core/blob/main/x/market/keeper/swap.go#L23-L31)). If the terra pool delta is 10 million, this means the terra pool contains 60 million SDR and the luna pool contains around 40 million SDR:",
      "metadata": {}
    },
    {
      "cell_type": "code",
      "source": "terra_pool_delta = 10_000_000\nprint('Luna pool %i' % calc_luna_pool())",
      "metadata": {
        "trusted": true
      },
      "execution_count": 7,
      "outputs": [
        {
          "name": "stdout",
          "text": "Luna pool 41666666:\n",
          "output_type": "stream"
        }
      ]
    },
    {
      "cell_type": "markdown",
      "source": "Swapping 10 million Terra results in a significantly higher fee:",
      "metadata": {}
    },
    {
      "cell_type": "code",
      "source": "format(calc_spread_fee_to_luna(10_000_000))",
      "metadata": {
        "trusted": true
      },
      "execution_count": 8,
      "outputs": [
        {
          "execution_count": 8,
          "output_type": "execute_result",
          "data": {
            "text/plain": "'40.47%'"
          },
          "metadata": {}
        }
      ]
    },
    {
      "cell_type": "markdown",
      "source": "At the end of each block, the terra pool delta is lowered. This is done by dividing the terra pool delta by the so-called pool recovery rate:",
      "metadata": {}
    },
    {
      "cell_type": "code",
      "source": "def adjust_pool_delta(recovery_rate):\n    step_size = terra_pool_delta / recovery_rate\n    return terra_pool_delta - step_size",
      "metadata": {
        "trusted": true
      },
      "execution_count": 9,
      "outputs": []
    },
    {
      "cell_type": "markdown",
      "source": "When the pool recovery rate is set to 36 and the pool delta is 10 million, at the end of the block the pool delta will have been lowered to around 9.7 million.",
      "metadata": {}
    },
    {
      "cell_type": "code",
      "source": "terra_pool_delta = adjust_pool_delta(36)\nterra_pool_delta",
      "metadata": {
        "trusted": true
      },
      "execution_count": 10,
      "outputs": [
        {
          "execution_count": 10,
          "output_type": "execute_result",
          "data": {
            "text/plain": "9722222.222222222"
          },
          "metadata": {}
        }
      ]
    },
    {
      "cell_type": "markdown",
      "source": "At the end of the next block (given no swaps have been made), the pool delta will be around 9.4 million. Thus, if the pool recovery rate is 36, it does not mean that after 36 blocks the delta will be back to 0, but instead the pool delta will slowly converge to 0.",
      "metadata": {}
    },
    {
      "cell_type": "code",
      "source": "terra_pool_delta = adjust_pool_delta(36)\nterra_pool_delta",
      "metadata": {
        "trusted": true
      },
      "execution_count": 11,
      "outputs": [
        {
          "execution_count": 11,
          "output_type": "execute_result",
          "data": {
            "text/plain": "9452160.49382716"
          },
          "metadata": {}
        }
      ]
    },
    {
      "cell_type": "markdown",
      "source": "When there has been a swap from Terra to Luna resulting in a big pool delta, the next swap receives a negative spread fee. However, every spread fee lower than the minimum spread fee is set to the minium spread fee (see [here](https://github.com/terra-rebels/classic-core/blob/main/x/market/keeper/swap.go#L127-L129)).",
      "metadata": {}
    },
    {
      "cell_type": "code",
      "source": "terra_pool_delta = 10_000_000\ncalc_spread_fee_to_terra(1_000_000)",
      "metadata": {
        "trusted": true
      },
      "execution_count": 12,
      "outputs": [
        {
          "execution_count": 12,
          "output_type": "execute_result",
          "data": {
            "text/plain": "-0.40625"
          },
          "metadata": {}
        }
      ]
    },
    {
      "cell_type": "markdown",
      "source": "Swapping from Luna to Terra does not necessarily result in zero fees:",
      "metadata": {}
    },
    {
      "cell_type": "code",
      "source": "terra_pool_delta = 0\ncalc_spread_fee_to_terra(10_000_000)",
      "metadata": {
        "trusted": true
      },
      "execution_count": 13,
      "outputs": [
        {
          "execution_count": 13,
          "output_type": "execute_result",
          "data": {
            "text/plain": "0.1666666666666664"
          },
          "metadata": {}
        }
      ]
    },
    {
      "cell_type": "markdown",
      "source": "Increasing the base pool size leads to lower spread feeds:",
      "metadata": {}
    },
    {
      "cell_type": "code",
      "source": "base_pool = 100_000_000\nterra_pool_delta = 0\nformat(calc_spread_fee_to_luna(10_000_000))",
      "metadata": {
        "trusted": true
      },
      "execution_count": 14,
      "outputs": [
        {
          "execution_count": 14,
          "output_type": "execute_result",
          "data": {
            "text/plain": "'9.09%'"
          },
          "metadata": {}
        }
      ]
    }
  ]
}
