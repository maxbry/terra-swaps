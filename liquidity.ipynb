{
 "cells": [
  {
   "cell_type": "markdown",
   "id": "01c3b97e",
   "metadata": {},
   "source": [
    "# Price indifferent liquidity\n",
    "This notebook lays out an idea how to deal with liquidity pools."
   ]
  },
  {
   "cell_type": "markdown",
   "id": "d740c65d",
   "metadata": {},
   "source": [
    "## Basic trading"
   ]
  },
  {
   "cell_type": "markdown",
   "id": "e1db75a5",
   "metadata": {},
   "source": [
    "First, we define a basic pool:"
   ]
  },
  {
   "cell_type": "code",
   "execution_count": 1,
   "id": "1d88cd05",
   "metadata": {},
   "outputs": [],
   "source": [
    "class Pool(object):\n",
    "    def __init__(self, size):\n",
    "        self.size = size"
   ]
  },
  {
   "cell_type": "markdown",
   "id": "7c8eee06",
   "metadata": {},
   "source": [
    "We create a trade pair covering two stables. We use UST and DAI because those two have the very nice property that they are both three-letters acronyms."
   ]
  },
  {
   "cell_type": "code",
   "execution_count": 2,
   "id": "c78088c4",
   "metadata": {},
   "outputs": [],
   "source": [
    "ust = Pool(1000)\n",
    "dai = Pool(1000)"
   ]
  },
  {
   "cell_type": "markdown",
   "id": "e0d3a5ef",
   "metadata": {},
   "source": [
    "We define a function that calculates how much one is to receive given pool sizes and offer amount."
   ]
  },
  {
   "cell_type": "code",
   "execution_count": 3,
   "id": "00e45aa5",
   "metadata": {},
   "outputs": [],
   "source": [
    "# askBaseAmount = askPool - cp / (offerPool + offerBaseAmount)\n",
    "def calc_to_receive(pool1, pool2, amount):\n",
    "    cp = pool1.size * pool2.size\n",
    "    return pool2.size - cp / (pool1.size + amount)"
   ]
  },
  {
   "cell_type": "code",
   "execution_count": 4,
   "id": "08664f0d",
   "metadata": {},
   "outputs": [
    {
     "name": "stdout",
     "output_type": "stream",
     "text": [
      "0.9990009990010549\n",
      "9.900990099009846\n",
      "90.90909090909088\n",
      "500.0\n"
     ]
    }
   ],
   "source": [
    "print(calc_to_receive(ust, dai, 1))\n",
    "print(calc_to_receive(ust, dai, 10))\n",
    "print(calc_to_receive(ust, dai, 100))\n",
    "print(calc_to_receive(ust, dai, 1000))"
   ]
  },
  {
   "cell_type": "markdown",
   "id": "34838a54",
   "metadata": {},
   "source": [
    "We see that the more from `pool2` is taken, the less one is receiving."
   ]
  },
  {
   "cell_type": "markdown",
   "id": "32943741",
   "metadata": {},
   "source": [
    "Next, we create a function that executes a trade."
   ]
  },
  {
   "cell_type": "code",
   "execution_count": 5,
   "id": "d5b265b3",
   "metadata": {},
   "outputs": [],
   "source": [
    "def do_trade(pool1, pool2, amount):\n",
    "    to_receive = calc_to_receive(pool1, pool2, amount)\n",
    "    pool1.size += amount\n",
    "    pool2.size -= to_receive\n",
    "    return to_receive"
   ]
  },
  {
   "cell_type": "markdown",
   "id": "addf8256",
   "metadata": {},
   "source": [
    "Max promised his best friend to give him 1000 DAI for this. Since he doesn't know how trading works, the does 10 trades where he buys sells 100 UST each time:"
   ]
  },
  {
   "cell_type": "code",
   "execution_count": 6,
   "id": "1f0e0145",
   "metadata": {},
   "outputs": [
    {
     "name": "stdout",
     "output_type": "stream",
     "text": [
      "333.33333333333337 333.33333333333326\n"
     ]
    }
   ],
   "source": [
    "one_trade = calc_to_receive(ust, dai, 500)\n",
    "\n",
    "five_trades = 0\n",
    "for _ in range(5):\n",
    "    five_trades += do_trade(ust, dai, 100)\n",
    "    \n",
    "print(one_trade, five_trades)"
   ]
  },
  {
   "cell_type": "markdown",
   "id": "202cffe4",
   "metadata": {},
   "source": [
    "With each trade from UST to DAI, the he receives less DAI. Why? Because liquidity is added to the UST pool and taken away the DAI pool. Meaning, UST is losing value while DAI is gaining value."
   ]
  },
  {
   "cell_type": "code",
   "execution_count": 7,
   "id": "76471727",
   "metadata": {},
   "outputs": [
    {
     "name": "stdout",
     "output_type": "stream",
     "text": [
      "1500\n",
      "666.6666666666667\n"
     ]
    }
   ],
   "source": [
    "print(ust.size)\n",
    "print(dai.size)"
   ]
  },
  {
   "cell_type": "markdown",
   "id": "d3fff792",
   "metadata": {},
   "source": [
    "Now, if one would swap 1 DAI to UST, one would receive this much UST:"
   ]
  },
  {
   "cell_type": "code",
   "execution_count": 8,
   "id": "041dfbb2",
   "metadata": {},
   "outputs": [
    {
     "name": "stdout",
     "output_type": "stream",
     "text": [
      "2.2466300549176594\n",
      "22.167487684729167\n",
      "195.6521739130435\n"
     ]
    }
   ],
   "source": [
    "print(calc_to_receive(dai, ust, 1))\n",
    "print(calc_to_receive(dai, ust, 10))\n",
    "print(calc_to_receive(dai, ust, 100))"
   ]
  },
  {
   "cell_type": "markdown",
   "id": "b1475b27",
   "metadata": {},
   "source": [
    "Now Alex is thinking: Wow, I will add all 500 DAI I have and buy UST with that. Let's simulate what happens."
   ]
  },
  {
   "cell_type": "code",
   "execution_count": 9,
   "id": "7d159802",
   "metadata": {},
   "outputs": [
    {
     "name": "stdout",
     "output_type": "stream",
     "text": [
      "1.2846131886954026\n",
      "12.747875354107691\n",
      "118.42105263157896\n"
     ]
    }
   ],
   "source": [
    "dai.size += 500\n",
    "print(calc_to_receive(dai, ust, 1))\n",
    "print(calc_to_receive(dai, ust, 10))\n",
    "print(calc_to_receive(dai, ust, 100))"
   ]
  },
  {
   "cell_type": "markdown",
   "id": "2e92568a",
   "metadata": {},
   "source": [
    "Before adding liquidty, each UST was worth around 2.2 DAI. After adding new liquidity and buying DAI, Alex received much less than expected. By adding his liquidity, he lowered the value of UST."
   ]
  },
  {
   "cell_type": "markdown",
   "id": "871eb640",
   "metadata": {},
   "source": [
    "How could we solve this problem? Meaning, how can we make it such that people can add liquidity without changing the price?"
   ]
  },
  {
   "cell_type": "markdown",
   "id": "1f7a3ef3",
   "metadata": {},
   "source": [
    "## Actual liquidity and virtual liquidity"
   ]
  },
  {
   "cell_type": "markdown",
   "id": "e732a5bd",
   "metadata": {},
   "source": [
    "To solve Alex's proble, Max had the idea to change liquidity adding such that adding liquidity affect the value of the trading pair less. This is done by splitting the pools into actual and virtual liquidity:"
   ]
  },
  {
   "cell_type": "code",
   "execution_count": 10,
   "id": "1d6f1f40",
   "metadata": {},
   "outputs": [],
   "source": [
    "class Pool(object):\n",
    "    def __init__(self, size):\n",
    "        self.actual = size\n",
    "        self.virtual = 0\n",
    "        \n",
    "    @property\n",
    "    def size(self):\n",
    "        return self.actual + self.virtual\n",
    "\n",
    "    \n",
    "ust = Pool(1000)\n",
    "dai = Pool(1000)\n",
    "\n",
    "def do_trade(pool1, pool2, amount):\n",
    "    to_receive = calc_to_receive(pool1, pool2, amount)\n",
    "    pool1.actual += amount\n",
    "    pool2.actual -= to_receive\n",
    "    return to_receive"
   ]
  },
  {
   "cell_type": "markdown",
   "id": "6127dd66",
   "metadata": {},
   "source": [
    "Now, when adding actual liquidity to DAI, we also add virtual liquidity to UST to balance the pools."
   ]
  },
  {
   "cell_type": "code",
   "execution_count": 11,
   "id": "8522df0e",
   "metadata": {},
   "outputs": [],
   "source": [
    "def add_liquidity(pool1, pool2, amount):\n",
    "    growth_factor = (pool1.actual + amount) / pool1.actual\n",
    "    pool1.actual += amount\n",
    "    pool2.virtual = (pool2.size * growth_factor) - pool2.size"
   ]
  },
  {
   "cell_type": "code",
   "execution_count": 12,
   "id": "eb09cefb",
   "metadata": {},
   "outputs": [
    {
     "name": "stdout",
     "output_type": "stream",
     "text": [
      "333.33333333333337 333.33333333333326\n"
     ]
    }
   ],
   "source": [
    "one_trade = calc_to_receive(ust, dai, 500)\n",
    "\n",
    "five_trades = 0\n",
    "for _ in range(5):\n",
    "    five_trades += do_trade(ust, dai, 100)\n",
    "    \n",
    "print(one_trade, five_trades)"
   ]
  },
  {
   "cell_type": "code",
   "execution_count": 13,
   "id": "551faa21",
   "metadata": {},
   "outputs": [
    {
     "name": "stdout",
     "output_type": "stream",
     "text": [
      "UST, actual amount: 1500.00, virtual amount: 1125.00\n",
      "DAI, actual amount: 1166.67, virtual amount: 0.00\n"
     ]
    }
   ],
   "source": [
    "add_liquidity(dai, ust, 500)\n",
    "print('UST, actual amount: %.2f, virtual amount: %.2f' % (ust.actual, ust.virtual))\n",
    "print('DAI, actual amount: %.2f, virtual amount: %.2f' % (dai.actual, dai.virtual))"
   ]
  },
  {
   "cell_type": "markdown",
   "id": "841e82c8",
   "metadata": {},
   "source": [
    "We added liquidity to DAI. To keep the pools balanced, we also added virtual liquidity to UST."
   ]
  },
  {
   "cell_type": "code",
   "execution_count": 14,
   "id": "92e21b4d",
   "metadata": {},
   "outputs": [
    {
     "name": "stdout",
     "output_type": "stream",
     "text": [
      "2.248073080217182\n",
      "22.308781869688573\n",
      "207.23684210526335\n"
     ]
    }
   ],
   "source": [
    "print(calc_to_receive(dai, ust, 1))\n",
    "print(calc_to_receive(dai, ust, 10))\n",
    "print(calc_to_receive(dai, ust, 100))"
   ]
  },
  {
   "cell_type": "markdown",
   "id": "e63d224a",
   "metadata": {},
   "source": [
    "We see that the price of UST/DAI is kept the same for trading 1 unit. When trading larger amount, the slippage (?) is smaller because the overall liquidity is higher now."
   ]
  },
  {
   "cell_type": "markdown",
   "id": "17de3145",
   "metadata": {},
   "source": [
    "## Multiple currencies"
   ]
  },
  {
   "cell_type": "markdown",
   "id": "c3985195",
   "metadata": {},
   "source": [
    "The previous examples covered two stablecoins and trading between them. Next, we want to look at trading and changing liquidity when having more two currencies that are not stable, for example UST and BTC. We want to do this by introducing one currency with is used as a centerpoint. This means, all trades are done by first converting to the center currency, CTR, and then to the new currency."
   ]
  },
  {
   "cell_type": "markdown",
   "id": "8a75654e",
   "metadata": {},
   "source": [
    "We initialize the pools by assuming 20_000 UST = 1 BTC = 1000 CTR. (The CTR value is chosen randomly)"
   ]
  },
  {
   "cell_type": "code",
   "execution_count": 15,
   "id": "0709bd06",
   "metadata": {},
   "outputs": [],
   "source": [
    "ust = Pool(20_000)\n",
    "ctr = Pool(1_000)\n",
    "btc = Pool(1)"
   ]
  },
  {
   "cell_type": "code",
   "execution_count": 16,
   "id": "99ad2bba",
   "metadata": {},
   "outputs": [],
   "source": [
    "def calc_to_receive_using_ctr(pool1, pool2, amount):\n",
    "    to_receive = calc_to_receive(pool1, ctr, amount)\n",
    "    to_receive = calc_to_receive(ctr, pool2, to_receive)\n",
    "    return to_receive"
   ]
  },
  {
   "cell_type": "code",
   "execution_count": 17,
   "id": "6d7324ff",
   "metadata": {},
   "outputs": [
    {
     "data": {
      "text/plain": [
       "4.99975001250208e-05"
      ]
     },
     "execution_count": 17,
     "metadata": {},
     "output_type": "execute_result"
    }
   ],
   "source": [
    "calc_to_receive(ust, btc, 1)"
   ]
  },
  {
   "cell_type": "markdown",
   "id": "a1792133",
   "metadata": {},
   "source": [
    "We see, 1 UST ~ 0.0005 BTC, which is to be expected."
   ]
  },
  {
   "cell_type": "code",
   "execution_count": 18,
   "id": "66fb60de",
   "metadata": {},
   "outputs": [],
   "source": [
    "def do_trade_using_ctr(pool1, pool2, amount):\n",
    "    to_receive = do_trade(pool1, ctr, amount)\n",
    "    to_receive = do_trade(ctr, pool2, to_receive)\n",
    "    return to_receive"
   ]
  },
  {
   "cell_type": "code",
   "execution_count": 19,
   "id": "70a59398",
   "metadata": {
    "scrolled": true
   },
   "outputs": [
    {
     "name": "stdout",
     "output_type": "stream",
     "text": [
      "0.00498\t1000.0\n",
      "0.00493\t1000.0\n",
      "0.00488\t1000.0\n",
      "0.00483\t1000.0\n",
      "0.00478\t1000.0\n",
      "0.00474\t1000.0\n",
      "0.00469\t1000.0\n",
      "0.00465\t1000.0\n",
      "0.00460\t1000.0\n",
      "0.00456\t1000.0\n"
     ]
    }
   ],
   "source": [
    "for _ in range(10):\n",
    "    to_receive = do_trade_using_ctr(ust, btc, 100)\n",
    "    print('%.5f\\t%.1f' % (to_receive, ctr.size))"
   ]
  },
  {
   "cell_type": "markdown",
   "id": "e10c07ca",
   "metadata": {},
   "source": [
    "When selling UST for BTC, the amount of BTC to receive is smaller after each trade. The pool size of the centerpoint is staying the same, even if every trade is routed via this currency."
   ]
  },
  {
   "cell_type": "code",
   "execution_count": 20,
   "id": "84634df7",
   "metadata": {},
   "outputs": [
    {
     "name": "stdout",
     "output_type": "stream",
     "text": [
      "0.04140786749482406\n",
      "0.03968253968253954\n"
     ]
    }
   ],
   "source": [
    "print(calc_to_receive_using_ctr(ust, btc, 1000))\n",
    "_ = do_trade(ust, ctr, 1000)\n",
    "print(calc_to_receive_using_ctr(ust, btc, 1000))"
   ]
  }
 ],
 "metadata": {
  "kernelspec": {
   "display_name": "Python 3 (ipykernel)",
   "language": "python",
   "name": "python3"
  },
  "language_info": {
   "codemirror_mode": {
    "name": "ipython",
    "version": 3
   },
   "file_extension": ".py",
   "mimetype": "text/x-python",
   "name": "python",
   "nbconvert_exporter": "python",
   "pygments_lexer": "ipython3",
   "version": "3.9.13"
  }
 },
 "nbformat": 4,
 "nbformat_minor": 5
}
